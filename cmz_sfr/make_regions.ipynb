{
 "cells": [
  {
   "cell_type": "code",
   "execution_count": 12,
   "id": "42877178",
   "metadata": {},
   "outputs": [],
   "source": [
    "from regions import Region, EllipseSkyRegion, PointSkyRegion, Regions\n",
    "from astropy.table import Table\n",
    "from astropy.coordinates import SkyCoord\n",
    "import astropy.units as u\n",
    "import numpy as np"
   ]
  },
  {
   "cell_type": "code",
   "execution_count": 13,
   "id": "4bf10980",
   "metadata": {},
   "outputs": [],
   "source": [
    "ACES_cat_H40a = Table.read('aces_zooniverse_catalog_with_SI_with_H40a.fits')"
   ]
  },
  {
   "cell_type": "code",
   "execution_count": 14,
   "id": "44e69924",
   "metadata": {},
   "outputs": [],
   "source": [
    "regs = []\n",
    "for source in ACES_cat_H40a:\n",
    "    coord = SkyCoord(l = source['GLON']*u.deg, b = source['GLAT']*u.deg, frame='galactic')\n",
    "    if ((source['SI_meerkat_aces'] < 0.3) & (source['meerkat_lower_limit?'] == False)):\n",
    "        reg = EllipseSkyRegion(coord, height = source['fitted_major_sigma'] * u.deg, width = source['fitted_minor_sigma']*u.deg, angle = source['pa']*u.deg)\n",
    "        regs += [reg]\n",
    "regs = Regions(regs)\n",
    "regs.write('HII_cand_SI.reg', format = 'ds9', overwrite=True)"
   ]
  },
  {
   "cell_type": "code",
   "execution_count": 15,
   "id": "5036a092",
   "metadata": {},
   "outputs": [],
   "source": [
    "regs = []\n",
    "for source in ACES_cat_H40a:\n",
    "    coord = SkyCoord(l = source['GLON']*u.deg, b = source['GLAT']*u.deg, frame='galactic')\n",
    "    if not (source['SI_cmzoom_aces'] is np.ma.masked):\n",
    "        if ((source['SI_cmzoom_aces'] > 2) & (source['cmzoom_upper_limit?'] == False)):\n",
    "            reg = EllipseSkyRegion(coord, height = source['fitted_major_sigma'] * u.deg, width = source['fitted_minor_sigma']*u.deg, angle = source['pa']*u.deg)\n",
    "            regs += [reg]\n",
    "regs = Regions(regs)\n",
    "regs.write('core_cand_SI.reg', format = 'ds9', overwrite = True)"
   ]
  },
  {
   "cell_type": "code",
   "execution_count": 16,
   "id": "db607ce0",
   "metadata": {},
   "outputs": [],
   "source": [
    "regs = []\n",
    "for source in ACES_cat_H40a:\n",
    "    coord = SkyCoord(l = source['GLON']*u.deg, b = source['GLAT']*u.deg, frame='galactic')\n",
    "    if source['H40a detection']:\n",
    "        reg = PointSkyRegion(coord)\n",
    "        regs += [reg]\n",
    "regs = Regions(regs)\n",
    "regs.write('H40_detected.reg', format = 'ds9', overwrite = True)"
   ]
  },
  {
   "cell_type": "code",
   "execution_count": null,
   "id": "e90a897c",
   "metadata": {},
   "outputs": [],
   "source": []
  }
 ],
 "metadata": {
  "kernelspec": {
   "display_name": "aces",
   "language": "python",
   "name": "python3"
  },
  "language_info": {
   "codemirror_mode": {
    "name": "ipython",
    "version": 3
   },
   "file_extension": ".py",
   "mimetype": "text/x-python",
   "name": "python",
   "nbconvert_exporter": "python",
   "pygments_lexer": "ipython3",
   "version": "3.12.9"
  }
 },
 "nbformat": 4,
 "nbformat_minor": 5
}
