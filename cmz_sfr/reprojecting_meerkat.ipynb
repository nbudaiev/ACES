{
 "cells": [
  {
   "cell_type": "code",
   "execution_count": 2,
   "metadata": {},
   "outputs": [],
   "source": [
    "import astropy.units as u\n",
    "from radio_beam import Beam, commonbeam, Beams\n",
    "from astropy.io import fits\n",
    "import warnings\n",
    "from astropy.wcs import WCS\n",
    "import astropy.units as u\n",
    "from astropy.convolution import convolve\n",
    "import matplotlib.pyplot as plt\n",
    "import numpy as np\n",
    "from astropy.visualization import simple_norm\n",
    "from astropy.stats import mad_std\n",
    "from astropy import visualization"
   ]
  },
  {
   "cell_type": "code",
   "execution_count": 6,
   "metadata": {},
   "outputs": [],
   "source": [
    "path_to_mosaic = '/Users/nbudaiev/UFL Dropbox/Nazar Budaiev/Research/ACES/12m_continuum_commonbeam_circular_reimaged_mosaic.fits'\n",
    "mosaic_hdul = fits.open(path_to_mosaic)\n",
    "wcs_aces = WCS(mosaic_hdul[0].header)\n",
    "aces_beam = Beam.from_fits_header(mosaic_hdul[0].header)\n",
    "path_to_meerkat = '/Users/nbudaiev/UFL Dropbox/Nazar Budaiev/Research/ACES/MeerKAT_Galactic_Centre_1284MHz-StokesI.fits'\n",
    "meerkat_hdul = fits.open(path_to_meerkat)\n",
    "meerkat_beam = Beam.from_fits_header(meerkat_hdul[0].header)\n",
    "#common_beam = commonbeam(aces_beam, meerkat_beam)\n",
    "beams =  Beams(beams=[meerkat_beam,aces_beam])\n",
    "common_beam = beams.common_beam()\n",
    "\n",
    "hdr_aces = mosaic_hdul[0].header"
   ]
  },
  {
   "cell_type": "code",
   "execution_count": 7,
   "metadata": {},
   "outputs": [],
   "source": [
    "aces_scale = wcs_aces.proj_plane_pixel_scales()[0]\n",
    "\n",
    "kernel = common_beam.deconvolve(aces_beam).as_kernel(aces_scale)\n",
    "\n",
    "conv_aces = convolve(mosaic_hdul[0].data, kernel, preserve_nan=True)\n",
    "\n",
    "area_rat = (common_beam.sr/aces_beam.sr).value\n",
    "\n",
    "conv_aces_adj = conv_aces * area_rat"
   ]
  },
  {
   "cell_type": "code",
   "execution_count": 14,
   "metadata": {},
   "outputs": [
    {
     "data": {
      "text/plain": [
       "True"
      ]
     },
     "execution_count": 14,
     "metadata": {},
     "output_type": "execute_result"
    }
   ],
   "source": [
    "common_beam == meerkat_beam"
   ]
  },
  {
   "cell_type": "code",
   "execution_count": 11,
   "metadata": {},
   "outputs": [
    {
     "data": {
      "text/plain": [
       "np.float64(2.3190879600347696)"
      ]
     },
     "execution_count": 11,
     "metadata": {},
     "output_type": "execute_result"
    }
   ],
   "source": [
    "np.nanmax(conv_aces)"
   ]
  },
  {
   "cell_type": "code",
   "execution_count": 12,
   "metadata": {},
   "outputs": [
    {
     "data": {
      "text/plain": [
       "np.float64(5.66166539332602)"
      ]
     },
     "execution_count": 12,
     "metadata": {},
     "output_type": "execute_result"
    }
   ],
   "source": [
    "np.nanmax(conv_aces_adj)"
   ]
  },
  {
   "cell_type": "code",
   "execution_count": 13,
   "metadata": {},
   "outputs": [
    {
     "data": {
      "text/plain": [
       "np.float64(4.448284615037065)"
      ]
     },
     "execution_count": 13,
     "metadata": {},
     "output_type": "execute_result"
    }
   ],
   "source": [
    "np.nanmax(mosaic_hdul[0].data)"
   ]
  },
  {
   "cell_type": "code",
   "execution_count": 8,
   "metadata": {},
   "outputs": [],
   "source": [
    "hdr_aces.update(common_beam.to_header_keywords())"
   ]
  },
  {
   "cell_type": "code",
   "execution_count": 9,
   "metadata": {},
   "outputs": [],
   "source": [
    "fits.writeto('12m_continuum_commonbeam_circular_reimaged_mosaic_convolved_with_meerkat.fits', conv_aces_adj, hdr_aces, overwrite = True)"
   ]
  },
  {
   "cell_type": "code",
   "execution_count": null,
   "metadata": {},
   "outputs": [],
   "source": []
  }
 ],
 "metadata": {
  "kernelspec": {
   "display_name": "aces",
   "language": "python",
   "name": "python3"
  },
  "language_info": {
   "codemirror_mode": {
    "name": "ipython",
    "version": 3
   },
   "file_extension": ".py",
   "mimetype": "text/x-python",
   "name": "python",
   "nbconvert_exporter": "python",
   "pygments_lexer": "ipython3",
   "version": "3.12.9"
  }
 },
 "nbformat": 4,
 "nbformat_minor": 2
}
